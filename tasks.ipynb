{
  "nbformat": 4,
  "nbformat_minor": 0,
  "metadata": {
    "colab": {
      "provenance": []
    },
    "kernelspec": {
      "name": "python3",
      "display_name": "Python 3"
    },
    "language_info": {
      "name": "python"
    }
  },
  "cells": [
    {
      "cell_type": "markdown",
      "source": [
        "que: 1 Write a python program to display given number in string format. e.g. 10 -> ten 100 -> hundred 5270 -> five thousand two hundred seventy "
      ],
      "metadata": {
        "id": "7hQrN0Sd8Gey"
      }
    },
    {
      "cell_type": "code",
      "execution_count": 3,
      "metadata": {
        "colab": {
          "base_uri": "https://localhost:8080/"
        },
        "id": "O5ArRi7O7hDz",
        "outputId": "71e9918b-41b3-4be3-825b-9278e91c99eb"
      },
      "outputs": [
        {
          "output_type": "stream",
          "name": "stdout",
          "text": [
            "Looking in indexes: https://pypi.org/simple, https://us-python.pkg.dev/colab-wheels/public/simple/\n",
            "Collecting num2words\n",
            "  Downloading num2words-0.5.12-py3-none-any.whl (125 kB)\n",
            "\u001b[2K     \u001b[90m━━━━━━━━━━━━━━━━━━━━━━━━━━━━━━━━━━━━━━━\u001b[0m \u001b[32m125.2/125.2 KB\u001b[0m \u001b[31m3.0 MB/s\u001b[0m eta \u001b[36m0:00:00\u001b[0m\n",
            "\u001b[?25hCollecting docopt>=0.6.2\n",
            "  Downloading docopt-0.6.2.tar.gz (25 kB)\n",
            "  Preparing metadata (setup.py) ... \u001b[?25l\u001b[?25hdone\n",
            "Building wheels for collected packages: docopt\n",
            "  Building wheel for docopt (setup.py) ... \u001b[?25l\u001b[?25hdone\n",
            "  Created wheel for docopt: filename=docopt-0.6.2-py2.py3-none-any.whl size=13723 sha256=aa27ddd86dc276a9849d7667ba98865bc225e636c2e4455782b2e389aec89e1e\n",
            "  Stored in directory: /root/.cache/pip/wheels/56/ea/58/ead137b087d9e326852a851351d1debf4ada529b6ac0ec4e8c\n",
            "Successfully built docopt\n",
            "Installing collected packages: docopt, num2words\n",
            "Successfully installed docopt-0.6.2 num2words-0.5.12\n"
          ]
        }
      ],
      "source": [
        "pip install num2words\n"
      ]
    },
    {
      "cell_type": "code",
      "source": [
        "from num2words import *\n",
        "\n",
        "num = input(\"Enter number: \")\n",
        "print(num2words(num))"
      ],
      "metadata": {
        "colab": {
          "base_uri": "https://localhost:8080/"
        },
        "id": "MyDEffQz7jxU",
        "outputId": "89e50b9d-cb20-4e8b-ee4c-f52180028594"
      },
      "execution_count": 4,
      "outputs": [
        {
          "output_type": "stream",
          "name": "stdout",
          "text": [
            "Enter number: 34\n",
            "thirty-four\n"
          ]
        }
      ]
    },
    {
      "cell_type": "code",
      "source": [
        "number=[\"\",\"One\",\"Two\",\"Three\",\"Four\",\"Five\",\"Six\",\"Seven\",\"Eight\",\"Nine\"]\n",
        "nty=[\"\",\"\",\"Twenty\",\"Thirty\",\"Fourty\",\"Fifty\",\"Sixty\",\"Seventy\",\"Eighty\",\"Ninty\"]\n",
        "tens=[\"Ten\",\"Eleven\",\"Twelve\",\"Thirteen\",\"Fourteen\",\"Fifteen\",\"Sixteen\",\"Seventeen\",\"Eighteen\",\"Nineteen\"]\n",
        "n=int(input(\"Enter a number \"))\n",
        "if n>99999:\n",
        "    print(\"Cant solve for more than 5 digits\")\n",
        "else:\n",
        "    d=[0,0,0,0,0]\n",
        "    i=0\n",
        "    while n>0:\n",
        "        d[i]=n%10\n",
        "        i+=1\n",
        "        n=n//10\n",
        "    num=\"\"\n",
        "    if d[4]!=0:\n",
        "        if(d[4]==1):\n",
        "            num+=tens[d[3]]+ \" Thousand \"\n",
        "        else:\n",
        "            num+=nty[d[4]]+\" \"+number[d[3]]+  \" Thousand \"\n",
        "    else:\n",
        "        if d[3]!=0:\n",
        "            num+=number[d[3]]+ \" Thousand \"\n",
        "    if d[2]!=0:\n",
        "        num+=number[d[2]]+\" Hundred \"\n",
        "    if d[1] != 0:\n",
        "        if (d[1] == 1):\n",
        "            num += tens[d[0]]\n",
        "        else:\n",
        "            num += nty[d[1]] + \" \" + number[d[0]]\n",
        "    else:\n",
        "        if d[0] != 0:\n",
        "            num += number[d[0]]\n",
        "    print(num)"
      ],
      "metadata": {
        "colab": {
          "base_uri": "https://localhost:8080/"
        },
        "id": "J_WNwbuD78XI",
        "outputId": "e8a6b9b8-f7fa-4e2c-fd89-99d2f4481c7f"
      },
      "execution_count": 5,
      "outputs": [
        {
          "output_type": "stream",
          "name": "stdout",
          "text": [
            "Enter a number 7209\n",
            "Seven Thousand Two Hundred Nine\n"
          ]
        }
      ]
    },
    {
      "cell_type": "markdown",
      "source": [
        "que: 2 Write a python program to find 1's count in binary value of given integer number."
      ],
      "metadata": {
        "id": "KFiL_sMGH2yg"
      }
    },
    {
      "cell_type": "code",
      "source": [
        "num = int(input(\"Enter number: \"))\n",
        "print(num,bin(num)[2:],sep = \" in binary : \" )\n",
        "print(bin(num).count(\"1\"))"
      ],
      "metadata": {
        "colab": {
          "base_uri": "https://localhost:8080/"
        },
        "id": "JSKPLB1I9y0A",
        "outputId": "1e13e1b4-891d-4625-c329-015bd0d705d2"
      },
      "execution_count": 6,
      "outputs": [
        {
          "output_type": "stream",
          "name": "stdout",
          "text": [
            "Enter number: 3456\n",
            "3456 in binary : 110110000000\n",
            "4\n"
          ]
        }
      ]
    },
    {
      "cell_type": "markdown",
      "source": [
        "que: 3 Write a python program to reverse the given number in most efficient way. \n"
      ],
      "metadata": {
        "id": "atWbplZeJNon"
      }
    },
    {
      "cell_type": "code",
      "source": [
        "num = int((input(\"enter number: \")))\n",
        "rev = 0\n",
        "while num != 0:\n",
        "    digit = num % 10\n",
        "    rev = rev * 10 + digit\n",
        "    num = num // 10\n",
        "print(rev)\n",
        "# print(str(num)[::-1])"
      ],
      "metadata": {
        "colab": {
          "base_uri": "https://localhost:8080/"
        },
        "id": "y00hXOhVIZYW",
        "outputId": "aeaa6cdc-61aa-4728-c4c6-42f77380d4e5"
      },
      "execution_count": null,
      "outputs": [
        {
          "output_type": "stream",
          "name": "stdout",
          "text": [
            "enter number: 12\n",
            "21\n"
          ]
        }
      ]
    },
    {
      "cell_type": "code",
      "source": [],
      "metadata": {
        "id": "68BUpqo6JacB"
      },
      "execution_count": null,
      "outputs": []
    }
  ]
}