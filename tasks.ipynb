{
  "nbformat": 4,
  "nbformat_minor": 0,
  "metadata": {
    "colab": {
      "provenance": [],
      "mount_file_id": "1MLbtxvG3QkAMwgXSZOlePlxRmAgohnFm",
      "authorship_tag": "ABX9TyMXnET0VJaTBjZQWyeIBRFM",
      "include_colab_link": true
    },
    "kernelspec": {
      "name": "python3",
      "display_name": "Python 3"
    },
    "language_info": {
      "name": "python"
    }
  },
  "cells": [
    {
      "cell_type": "markdown",
      "metadata": {
        "id": "view-in-github",
        "colab_type": "text"
      },
      "source": [
        "<a href=\"https://colab.research.google.com/github/daxrajani12/python-task/blob/main/tasks.ipynb\" target=\"_parent\"><img src=\"https://colab.research.google.com/assets/colab-badge.svg\" alt=\"Open In Colab\"/></a>"
      ]
    },
    {
      "cell_type": "markdown",
      "source": [
        "que: 1 Write a python program to display given number in string format. e.g. 10 -> ten 100 -> hundred 5270 -> five thousand two hundred seventy "
      ],
      "metadata": {
        "id": "7hQrN0Sd8Gey"
      }
    },
    {
      "cell_type": "code",
      "execution_count": null,
      "metadata": {
        "colab": {
          "base_uri": "https://localhost:8080/"
        },
        "id": "O5ArRi7O7hDz",
        "outputId": "94957279-b915-455d-f321-065190c888cb"
      },
      "outputs": [
        {
          "output_type": "stream",
          "name": "stdout",
          "text": [
            "Looking in indexes: https://pypi.org/simple, https://us-python.pkg.dev/colab-wheels/public/simple/\n",
            "Collecting num2words\n",
            "  Downloading num2words-0.5.12-py3-none-any.whl (125 kB)\n",
            "\u001b[2K     \u001b[90m━━━━━━━━━━━━━━━━━━━━━━━━━━━━━━━━━━━━━━━\u001b[0m \u001b[32m125.2/125.2 KB\u001b[0m \u001b[31m6.1 MB/s\u001b[0m eta \u001b[36m0:00:00\u001b[0m\n",
            "\u001b[?25hCollecting docopt>=0.6.2\n",
            "  Downloading docopt-0.6.2.tar.gz (25 kB)\n",
            "  Preparing metadata (setup.py) ... \u001b[?25l\u001b[?25hdone\n",
            "Building wheels for collected packages: docopt\n",
            "  Building wheel for docopt (setup.py) ... \u001b[?25l\u001b[?25hdone\n",
            "  Created wheel for docopt: filename=docopt-0.6.2-py2.py3-none-any.whl size=13723 sha256=a349ace364942403ae2d41a451c6148169d1a9360cf848c7e4dc9a69efb84f4e\n",
            "  Stored in directory: /root/.cache/pip/wheels/56/ea/58/ead137b087d9e326852a851351d1debf4ada529b6ac0ec4e8c\n",
            "Successfully built docopt\n",
            "Installing collected packages: docopt, num2words\n",
            "Successfully installed docopt-0.6.2 num2words-0.5.12\n"
          ]
        }
      ],
      "source": [
        "pip install num2words\n"
      ]
    },
    {
      "cell_type": "code",
      "source": [
        "from num2words import *\n",
        "\n",
        "num = input(\"Enter number: \")\n",
        "print(num2words(num))"
      ],
      "metadata": {
        "colab": {
          "base_uri": "https://localhost:8080/"
        },
        "id": "MyDEffQz7jxU",
        "outputId": "3df22c7d-8a83-4ada-cf71-e0c33f3e2264"
      },
      "execution_count": null,
      "outputs": [
        {
          "output_type": "stream",
          "name": "stdout",
          "text": [
            "Enter number: 12345\n",
            "twelve thousand, three hundred and forty-five\n"
          ]
        }
      ]
    },
    {
      "cell_type": "code",
      "source": [
        "number=[\"\",\"One\",\"Two\",\"Three\",\"Four\",\"Five\",\"Six\",\"Seven\",\"Eight\",\"Nine\"]\n",
        "nty=[\"\",\"\",\"Twenty\",\"Thirty\",\"Fourty\",\"Fifty\",\"Sixty\",\"Seventy\",\"Eighty\",\"Ninty\"]\n",
        "tens=[\"Ten\",\"Eleven\",\"Twelve\",\"Thirteen\",\"Fourteen\",\"Fifteen\",\"Sixteen\",\"Seventeen\",\"Eighteen\",\"Nineteen\"]\n",
        "n=int(input(\"Enter a number \"))\n",
        "if n>99999:\n",
        "    print(\"Cant solve for more than 5 digits\")\n",
        "else:\n",
        "    d=[0,0,0,0,0]\n",
        "    i=0\n",
        "    while n>0:\n",
        "        d[i]=n%10\n",
        "        i+=1\n",
        "        n=n//10\n",
        "    num=\"\"\n",
        "    if d[4]!=0:\n",
        "        if(d[4]==1):\n",
        "            num+=tens[d[3]]+ \" Thousand \"\n",
        "        else:\n",
        "            num+=nty[d[4]]+\" \"+number[d[3]]+  \" Thousand \"\n",
        "    else:\n",
        "        if d[3]!=0:\n",
        "            num+=number[d[3]]+ \" Thousand \"\n",
        "    if d[2]!=0:\n",
        "        num+=number[d[2]]+\" Hundred \"\n",
        "    if d[1] != 0:\n",
        "        if (d[1] == 1):\n",
        "            num += tens[d[0]]\n",
        "        else:\n",
        "            num += nty[d[1]] + \" \" + number[d[0]]\n",
        "    else:\n",
        "        if d[0] != 0:\n",
        "            num += number[d[0]]\n",
        "    print(num)"
      ],
      "metadata": {
        "colab": {
          "base_uri": "https://localhost:8080/"
        },
        "id": "J_WNwbuD78XI",
        "outputId": "e39a8251-567e-463b-efd4-3c10657155ac"
      },
      "execution_count": null,
      "outputs": [
        {
          "output_type": "stream",
          "name": "stdout",
          "text": [
            "Enter a number 1\n",
            "One\n"
          ]
        }
      ]
    },
    {
      "cell_type": "markdown",
      "source": [
        "que: 2 Write a python program to find 1's count in binary value of given integer number."
      ],
      "metadata": {
        "id": "KFiL_sMGH2yg"
      }
    },
    {
      "cell_type": "code",
      "source": [
        "num = int(input(\"Enter number: \"))\n",
        "count = 0\n",
        "resullt = 0\n",
        "while num > 0:\n",
        "  print(\"loop start\",num)\n",
        "  resullt = num % 2\n",
        "  print(\"num: \",num - resullt)\n",
        "  print(\"result (flag): \",resullt)\n",
        "  if resullt == 1:\n",
        "    count += 1\n",
        "  num = num // 2\n",
        "  print(\"loop end\",num)\n",
        "print(\"count :\" , count)"
      ],
      "metadata": {
        "colab": {
          "base_uri": "https://localhost:8080/"
        },
        "id": "8VGlQEvR0zf9",
        "outputId": "393ed99d-ecc1-4720-8ee2-41a334e7180c"
      },
      "execution_count": null,
      "outputs": [
        {
          "output_type": "stream",
          "name": "stdout",
          "text": [
            "Enter number: 12\n",
            "loop start 12\n",
            "num:  12\n",
            "result (flag):  0\n",
            "loop end 6\n",
            "loop start 6\n",
            "num:  6\n",
            "result (flag):  0\n",
            "loop end 3\n",
            "loop start 3\n",
            "num:  2\n",
            "result (flag):  1\n",
            "loop end 1\n",
            "loop start 1\n",
            "num:  0\n",
            "result (flag):  1\n",
            "loop end 0\n",
            "count : 2\n"
          ]
        }
      ]
    },
    {
      "cell_type": "code",
      "source": [
        "num = int(input(\"Enter number: \"))\n",
        "print(num,bin(num)[2:],sep = \" in binary : \" )\n",
        "print(bin(num).count(\"1\"))"
      ],
      "metadata": {
        "colab": {
          "base_uri": "https://localhost:8080/"
        },
        "id": "JSKPLB1I9y0A",
        "outputId": "28e6123b-e16b-46a8-c3a7-99395456de89"
      },
      "execution_count": null,
      "outputs": [
        {
          "output_type": "stream",
          "name": "stdout",
          "text": [
            "Enter number: 12\n",
            "12 in binary : 1100\n",
            "2\n"
          ]
        }
      ]
    },
    {
      "cell_type": "markdown",
      "source": [
        "que: 3 Write a python program to reverse the given number in most efficient way. \n"
      ],
      "metadata": {
        "id": "atWbplZeJNon"
      }
    },
    {
      "cell_type": "code",
      "source": [
        "num = int(input(\"enter number: \"))\n",
        "rev = 0\n",
        "while num != 0:\n",
        "    digit = num % 10\n",
        "    rev = rev * 10 + digit\n",
        "    num = num // 10\n",
        "print(rev)\n",
        "# print(str(num)[::-1])"
      ],
      "metadata": {
        "colab": {
          "base_uri": "https://localhost:8080/"
        },
        "id": "y00hXOhVIZYW",
        "outputId": "953ca97e-7198-494d-9316-d804b7f02b62"
      },
      "execution_count": null,
      "outputs": [
        {
          "output_type": "stream",
          "name": "stdout",
          "text": [
            "enter number: 123\n",
            "321\n"
          ]
        }
      ]
    },
    {
      "cell_type": "code",
      "source": [
        "num = int (input(\"enter number: \"))\n",
        "print(str(num)[::-1])"
      ],
      "metadata": {
        "id": "68BUpqo6JacB",
        "colab": {
          "base_uri": "https://localhost:8080/"
        },
        "outputId": "bcde62aa-4a92-4eae-f0d2-4f4a8f701b5b"
      },
      "execution_count": null,
      "outputs": [
        {
          "output_type": "stream",
          "name": "stdout",
          "text": [
            "enter number: 123\n",
            "321\n"
          ]
        }
      ]
    },
    {
      "cell_type": "markdown",
      "source": [
        "que 4: Write a python function to invert the bits in given integer variable. The inversion of bits should start from given position and should be done upto given counts. "
      ],
      "metadata": {
        "id": "WiDOdBxD-jPT"
      }
    },
    {
      "cell_type": "code",
      "source": [
        "def invert_bits(n, start, count):\n",
        "    mask = (1 << count) - 1\n",
        "    mask = mask << start\n",
        "    n = n ^ mask\n",
        "    return n\n",
        "\n",
        "original_number = 111\n",
        "print(original_number,bin(original_number)[2:],sep = \" in binary : \" )\n",
        "\n",
        "inverted_number = invert_bits(original_number, 1, 3)\n",
        "\n",
        "print(inverted_number)\n",
        "print(inverted_number,bin(inverted_number)[2:],sep = \" in binary : \" )\n"
      ],
      "metadata": {
        "id": "Dnohrpd2_YDd",
        "colab": {
          "base_uri": "https://localhost:8080/"
        },
        "outputId": "474d62fd-1fb1-4ff9-e409-f10032760192"
      },
      "execution_count": null,
      "outputs": [
        {
          "output_type": "stream",
          "name": "stdout",
          "text": [
            "111 in binary : 1101111\n",
            "97\n",
            "97 in binary : 1100001\n"
          ]
        }
      ]
    },
    {
      "cell_type": "markdown",
      "source": [
        "que 5: Write a python program function that returns index of first matched element from given array. if element is not found it returns -1. e.g. if array[] = {1, 2, 5, 9, 11} and search value entered is \"5\" than it returns 2. if search value entered is \"7\" which is not present inside array, so function returns -1. \n"
      ],
      "metadata": {
        "id": "zca7L1lgCjLu"
      }
    },
    {
      "cell_type": "code",
      "source": [
        "def find_index(arr, value):\n",
        "    for i in range(len(arr)):\n",
        "        if arr[i] == value:\n",
        "            return i\n",
        "    return -1\n",
        "\n",
        "arr = [1, 2, 5, 9, 11]\n",
        "search_value = 1\n",
        "index = find_index(arr, search_value)\n",
        "print(index) \n"
      ],
      "metadata": {
        "colab": {
          "base_uri": "https://localhost:8080/"
        },
        "id": "8_YrHvpY_oNk",
        "outputId": "b3517009-9472-49aa-f913-0d0dd52bcc8a"
      },
      "execution_count": null,
      "outputs": [
        {
          "output_type": "stream",
          "name": "stdout",
          "text": [
            "0\n"
          ]
        }
      ]
    },
    {
      "cell_type": "markdown",
      "source": [
        "que 6: Write a python program python function that expands given short norm to expanded string. e.g. if passed string is \"a-g\" output should be \"abcdefg\" if passed string is \"b-h4-8\" output should be \"bcdefgh45678\" if passed string is \"-c-e-\" output should be \"cde\" "
      ],
      "metadata": {
        "id": "ioQsm-L5EI1y"
      }
    },
    {
      "cell_type": "code",
      "source": [
        "def expand_string(s):\n",
        "    expanded = \"\"\n",
        "    i = 0\n",
        "    \n",
        "    while i < len(s):\n",
        "        if s[i] == '-' and i == 0:\n",
        "          i += 1 \n",
        "          continue\n",
        "        if s[i] == '-' and i == len(s) - 1:\n",
        "          break\n",
        "        \n",
        "        if s[i] == '-':\n",
        "            start = ord(s[i-1]) + 1\n",
        "            end = ord(s[i+1])\n",
        "            for j in range(start, end+1):\n",
        "                expanded += chr(j)\n",
        "            i += 1\n",
        "        else:\n",
        "            expanded += s[i]\n",
        "        i += 1\n",
        "    return expanded\n",
        "\n",
        "print(expand_string(\"a-g\"))\n",
        "print(expand_string(\"b-h4-8\"))\n",
        "print(expand_string(\"-c-e-\"))\n",
        "print(expand_string(\"A-E1-6v-z\"))\n"
      ],
      "metadata": {
        "colab": {
          "base_uri": "https://localhost:8080/"
        },
        "id": "qzCNI58JE_DB",
        "outputId": "bc6afa3c-6c8c-45ad-f224-713f360e1522"
      },
      "execution_count": null,
      "outputs": [
        {
          "output_type": "stream",
          "name": "stdout",
          "text": [
            "abcdefg\n",
            "bcdefgh45678\n",
            "cde\n",
            "ABCDE123456vwxyz\n"
          ]
        }
      ]
    },
    {
      "cell_type": "markdown",
      "source": [
        "que 7: Write a Python program to find string length without using library function (strlen). "
      ],
      "metadata": {
        "id": "XpAdMCuXPZGP"
      }
    },
    {
      "cell_type": "code",
      "source": [
        "in_string = input(\"Enter string: \")\n",
        "count = 0 \n",
        "for char in in_string:\n",
        "  count += 1\n",
        "print(\"length of string:\" , count)"
      ],
      "metadata": {
        "colab": {
          "base_uri": "https://localhost:8080/"
        },
        "id": "Db47GN6IQNgG",
        "outputId": "cb48954b-3bfe-41af-e84d-2698e5d73b5f"
      },
      "execution_count": null,
      "outputs": [
        {
          "output_type": "stream",
          "name": "stdout",
          "text": [
            "Enter string: dax rajani\n",
            "length of string: 10\n"
          ]
        }
      ]
    },
    {
      "cell_type": "markdown",
      "source": [
        "que 8: Write a python program function to compare two strings (returns 0 on success and -1 on failure) Define above function in another python file instead of main source file. Make a Makefile to compile these python files."
      ],
      "metadata": {
        "id": "1oBjyzpJRCvA"
      }
    },
    {
      "cell_type": "code",
      "source": [
        "from string_compare import compare_strings\n",
        "\n",
        "result = compare_strings(\"hello\", \"world\")\n",
        "if result == 0:\n",
        "    print(\"Strings are equal.\")\n",
        "else:\n",
        "    print(\"Strings are not equal.\")\n"
      ],
      "metadata": {
        "colab": {
          "base_uri": "https://localhost:8080/",
          "height": 373
        },
        "id": "DfJiHhgrQOAa",
        "outputId": "f4284fd1-7e84-4f31-bdd5-e19109f6c113"
      },
      "execution_count": null,
      "outputs": [
        {
          "output_type": "error",
          "ename": "ModuleNotFoundError",
          "evalue": "ignored",
          "traceback": [
            "\u001b[0;31m---------------------------------------------------------------------------\u001b[0m",
            "\u001b[0;31mModuleNotFoundError\u001b[0m                       Traceback (most recent call last)",
            "\u001b[0;32m<ipython-input-118-483dff6264d6>\u001b[0m in \u001b[0;36m<module>\u001b[0;34m\u001b[0m\n\u001b[0;32m----> 1\u001b[0;31m \u001b[0;32mfrom\u001b[0m \u001b[0mstring_compare\u001b[0m \u001b[0;32mimport\u001b[0m \u001b[0mcompare_strings\u001b[0m\u001b[0;34m\u001b[0m\u001b[0;34m\u001b[0m\u001b[0m\n\u001b[0m\u001b[1;32m      2\u001b[0m \u001b[0;34m\u001b[0m\u001b[0m\n\u001b[1;32m      3\u001b[0m \u001b[0mresult\u001b[0m \u001b[0;34m=\u001b[0m \u001b[0mcompare_strings\u001b[0m\u001b[0;34m(\u001b[0m\u001b[0;34m\"hello\"\u001b[0m\u001b[0;34m,\u001b[0m \u001b[0;34m\"world\"\u001b[0m\u001b[0;34m)\u001b[0m\u001b[0;34m\u001b[0m\u001b[0;34m\u001b[0m\u001b[0m\n\u001b[1;32m      4\u001b[0m \u001b[0;32mif\u001b[0m \u001b[0mresult\u001b[0m \u001b[0;34m==\u001b[0m \u001b[0;36m0\u001b[0m\u001b[0;34m:\u001b[0m\u001b[0;34m\u001b[0m\u001b[0;34m\u001b[0m\u001b[0m\n\u001b[1;32m      5\u001b[0m     \u001b[0mprint\u001b[0m\u001b[0;34m(\u001b[0m\u001b[0;34m\"Strings are equal.\"\u001b[0m\u001b[0;34m)\u001b[0m\u001b[0;34m\u001b[0m\u001b[0;34m\u001b[0m\u001b[0m\n",
            "\u001b[0;31mModuleNotFoundError\u001b[0m: No module named 'string_compare'",
            "",
            "\u001b[0;31m---------------------------------------------------------------------------\u001b[0;32m\nNOTE: If your import is failing due to a missing package, you can\nmanually install dependencies using either !pip or !apt.\n\nTo view examples of installing some common dependencies, click the\n\"Open Examples\" button below.\n\u001b[0;31m---------------------------------------------------------------------------\u001b[0m\n"
          ],
          "errorDetails": {
            "actions": [
              {
                "action": "open_url",
                "actionText": "Open Examples",
                "url": "/notebooks/snippets/importing_libraries.ipynb"
              }
            ]
          }
        }
      ]
    },
    {
      "cell_type": "markdown",
      "source": [
        "que 10: Write a python program to find keyword/sub string from a given string. If sub string is available print \"Search successful\" otherwise print \"Search Unsuccessful\" "
      ],
      "metadata": {
        "id": "Z9TovT1VVyX-"
      }
    },
    {
      "cell_type": "code",
      "source": [
        "def find_substring(string, substring):\n",
        "    n = len(string)\n",
        "    m = len(substring)\n",
        "    for i in range(n - m + 1):\n",
        "        match = True\n",
        "        for j in range(m):\n",
        "            if string[i+j] != substring[j]:\n",
        "                match = False\n",
        "                break\n",
        "        if match:\n",
        "            print(\"Search successful\")\n",
        "            return\n",
        "    print(\"Search unsuccessful\")\n",
        "\n",
        "\n",
        "\n",
        "st = input(\"Enter string 1: \")\n",
        "sst = input(\"Enter string 2: \")\n",
        "find_substring(st,sst)"
      ],
      "metadata": {
        "colab": {
          "base_uri": "https://localhost:8080/"
        },
        "id": "Quku3gqtTtFW",
        "outputId": "6be33a08-fc31-44d4-cb1a-e07d1eaa0dfe"
      },
      "execution_count": null,
      "outputs": [
        {
          "output_type": "stream",
          "name": "stdout",
          "text": [
            "Enter string 1: daaddad\n",
            "Enter string 2: dad\n",
            "Search successful\n"
          ]
        }
      ]
    },
    {
      "cell_type": "code",
      "source": [],
      "metadata": {
        "id": "iGWlAhb9W6NT"
      },
      "execution_count": null,
      "outputs": []
    }
  ]
}